{
 "cells": [
  {
   "cell_type": "code",
   "execution_count": 1,
   "metadata": {
    "collapsed": false,
    "deletable": true,
    "editable": true
   },
   "outputs": [
    {
     "data": {
      "text/html": [
       "<script>\n",
       "code_show=true; \n",
       "function code_toggle() {\n",
       " if (code_show){\n",
       " $('div.input').hide();\n",
       " } else {\n",
       " $('div.input').show();\n",
       " }\n",
       " code_show = !code_show\n",
       "} \n",
       "$( document ).ready(code_toggle);\n",
       "</script>\n",
       "<form action=\"javascript:code_toggle()\"><input type=\"submit\" value=\"Click here to toggle on/off the raw code.\"></form>"
      ],
      "text/plain": [
       "<IPython.core.display.HTML object>"
      ]
     },
     "execution_count": 1,
     "metadata": {},
     "output_type": "execute_result"
    }
   ],
   "source": [
    "from IPython.display import HTML\n",
    "\n",
    "HTML('''<script>\n",
    "code_show=true; \n",
    "function code_toggle() {\n",
    " if (code_show){\n",
    " $('div.input').hide();\n",
    " } else {\n",
    " $('div.input').show();\n",
    " }\n",
    " code_show = !code_show\n",
    "} \n",
    "$( document ).ready(code_toggle);\n",
    "</script>\n",
    "<form action=\"javascript:code_toggle()\"><input type=\"submit\" value=\"Click here to toggle on/off the raw code.\"></form>''')"
   ]
  },
  {
   "cell_type": "markdown",
   "metadata": {
    "deletable": true,
    "editable": true
   },
   "source": [
    "# Bloaty's Pizza Hog\n",
    "\n",
    "## The problem:\n",
    "Bloaty's Pizza Hog is a pizza place in Pittsburgh's South Side Flats. With their established success, the owners are hoping to open new restaurants in the Pittsburgh area. They want to scope Pittsburgh's neighborhoods to find which ones are the most similar to the South Side Flats so their new locations mirror their current success."
   ]
  },
  {
   "cell_type": "markdown",
   "metadata": {
    "deletable": true,
    "editable": true
   },
   "source": [
    "## The proposal:\n",
    "\n",
    "A model that seems adiquate for this would be a k-means model. We'll find information on the various neighborhoods then group them into clusters. We should then see at least a couply other neighborhoods that are similar to the South Side Flats which may be good candidates for new restaurant locations."
   ]
  },
  {
   "cell_type": "markdown",
   "metadata": {
    "deletable": true,
    "editable": true
   },
   "source": [
    "## The data:\n",
    "\n",
    "### List of neighborhoods\n",
    "The first thing we'll be needing is a list of the neighborhoods in Pittsburgh. Wikipedia has just such a source of us! Let's take a look at our page:"
   ]
  },
  {
   "cell_type": "code",
   "execution_count": 2,
   "metadata": {
    "collapsed": false,
    "deletable": true,
    "editable": true
   },
   "outputs": [
    {
     "data": {
      "text/html": [
       "\n",
       "        <iframe\n",
       "            width=\"800\"\n",
       "            height=\"450\"\n",
       "            src=\"https://en.wikipedia.org/wiki/List_of_Pittsburgh_neighborhoods\"\n",
       "            frameborder=\"0\"\n",
       "            allowfullscreen\n",
       "        ></iframe>\n",
       "        "
      ],
      "text/plain": [
       "<IPython.lib.display.IFrame at 0x2d356b88f60>"
      ]
     },
     "execution_count": 2,
     "metadata": {},
     "output_type": "execute_result"
    }
   ],
   "source": [
    "from IPython.display import IFrame\n",
    "IFrame(\"https://en.wikipedia.org/wiki/List_of_Pittsburgh_neighborhoods\", width = 800, height=450)"
   ]
  },
  {
   "cell_type": "markdown",
   "metadata": {
    "deletable": true,
    "editable": true
   },
   "source": [
    "### The Venues\n",
    "\n",
    "For each neighborhood, we'll use Foursquare's API to look up what kind of venues each neighborhood has. This should at least give us a good capture of neighborhood trends.\n",
    "\n",
    "Our Wikipedia page provides us with a list of neighborhoods, but to use our use Foursquare's API, we'll also need each neighborhood's location. The plan will be to use BeautifulSoup to go through each of the neighborhood links on this page, go to the neighborhood's page, then capture the longitude and latitude from there."
   ]
  },
  {
   "cell_type": "markdown",
   "metadata": {
    "deletable": true,
    "editable": true
   },
   "source": [
    "### Other consideration while building this model:\n",
    "Initially, we'll capture all the venues for each neighborhood. However, capturing only restaurants may give better insight for the restuarant market. One thing we may want to explore is how a model with restuarant-only venues compares to a model created with all venues. If there's a strong similarity between the two, we can have more confidence that non-restaurant venues correlate to what kinds of restaurants are in the area as well.\n",
    "\n",
    "We may also want to look at more factors than just venues. Economic factors such as income and home value may be important as well as population factors such as population desity and age distribution. We'll have to explore some further data sources if we'd like to pursue capturing those factors."
   ]
  },
  {
   "cell_type": "code",
   "execution_count": null,
   "metadata": {
    "collapsed": true,
    "deletable": true,
    "editable": true
   },
   "outputs": [],
   "source": []
  },
  {
   "cell_type": "code",
   "execution_count": null,
   "metadata": {
    "collapsed": true,
    "deletable": true,
    "editable": true
   },
   "outputs": [],
   "source": []
  }
 ],
 "metadata": {
  "kernelspec": {
   "display_name": "Python 3",
   "language": "python",
   "name": "python3"
  },
  "language_info": {
   "codemirror_mode": {
    "name": "ipython",
    "version": 3
   },
   "file_extension": ".py",
   "mimetype": "text/x-python",
   "name": "python",
   "nbconvert_exporter": "python",
   "pygments_lexer": "ipython3",
   "version": "3.5.2"
  }
 },
 "nbformat": 4,
 "nbformat_minor": 2
}
