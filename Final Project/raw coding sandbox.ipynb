{
 "cells": [
  {
   "cell_type": "markdown",
   "metadata": {},
   "source": [
    "# The data\n",
    "First, let's just gather all the data we'll need, then work from there"
   ]
  },
  {
   "cell_type": "code",
   "execution_count": 122,
   "metadata": {},
   "outputs": [],
   "source": [
    "from urllib.request import urlopen\n",
    "from bs4 import BeautifulSoup\n",
    "import pandas as pd\n",
    "import re\n",
    "import requests"
   ]
  },
  {
   "cell_type": "code",
   "execution_count": 171,
   "metadata": {
    "scrolled": true
   },
   "outputs": [
    {
     "data": {
      "text/html": [
       "<div>\n",
       "<style scoped>\n",
       "    .dataframe tbody tr th:only-of-type {\n",
       "        vertical-align: middle;\n",
       "    }\n",
       "\n",
       "    .dataframe tbody tr th {\n",
       "        vertical-align: top;\n",
       "    }\n",
       "\n",
       "    .dataframe thead th {\n",
       "        text-align: right;\n",
       "    }\n",
       "</style>\n",
       "<table border=\"1\" class=\"dataframe\">\n",
       "  <thead>\n",
       "    <tr style=\"text-align: right;\">\n",
       "      <th></th>\n",
       "      <th>Neighborhood</th>\n",
       "      <th>wiki</th>\n",
       "      <th>latitude</th>\n",
       "      <th>longitude</th>\n",
       "    </tr>\n",
       "  </thead>\n",
       "  <tbody>\n",
       "    <tr>\n",
       "      <th>0</th>\n",
       "      <td>Allegheny Center</td>\n",
       "      <td>https://en.wikipedia.org/wiki/Allegheny_Center...</td>\n",
       "      <td>NaN</td>\n",
       "      <td>NaN</td>\n",
       "    </tr>\n",
       "    <tr>\n",
       "      <th>1</th>\n",
       "      <td>Allegheny West</td>\n",
       "      <td>https://en.wikipedia.org/wiki/Allegheny_West_(...</td>\n",
       "      <td>NaN</td>\n",
       "      <td>NaN</td>\n",
       "    </tr>\n",
       "    <tr>\n",
       "      <th>2</th>\n",
       "      <td>Allentown</td>\n",
       "      <td>https://en.wikipedia.org/wiki/Allentown_(Pitts...</td>\n",
       "      <td>NaN</td>\n",
       "      <td>NaN</td>\n",
       "    </tr>\n",
       "    <tr>\n",
       "      <th>3</th>\n",
       "      <td>Arlington</td>\n",
       "      <td>https://en.wikipedia.org/wiki/Arlington_(Pitts...</td>\n",
       "      <td>NaN</td>\n",
       "      <td>NaN</td>\n",
       "    </tr>\n",
       "    <tr>\n",
       "      <th>4</th>\n",
       "      <td>Arlington Heights</td>\n",
       "      <td>https://en.wikipedia.org/wiki/Arlington_Height...</td>\n",
       "      <td>NaN</td>\n",
       "      <td>NaN</td>\n",
       "    </tr>\n",
       "  </tbody>\n",
       "</table>\n",
       "</div>"
      ],
      "text/plain": [
       "        Neighborhood                                               wiki  \\\n",
       "0   Allegheny Center  https://en.wikipedia.org/wiki/Allegheny_Center...   \n",
       "1     Allegheny West  https://en.wikipedia.org/wiki/Allegheny_West_(...   \n",
       "2          Allentown  https://en.wikipedia.org/wiki/Allentown_(Pitts...   \n",
       "3          Arlington  https://en.wikipedia.org/wiki/Arlington_(Pitts...   \n",
       "4  Arlington Heights  https://en.wikipedia.org/wiki/Arlington_Height...   \n",
       "\n",
       "  latitude longitude  \n",
       "0      NaN       NaN  \n",
       "1      NaN       NaN  \n",
       "2      NaN       NaN  \n",
       "3      NaN       NaN  \n",
       "4      NaN       NaN  "
      ]
     },
     "execution_count": 171,
     "metadata": {},
     "output_type": "execute_result"
    }
   ],
   "source": [
    "# wiki page with list of Pittsburgh neighborhoods\n",
    "wiki = \"https://en.wikipedia.org/wiki/List_of_Pittsburgh_neighborhoods\"\n",
    "\n",
    "# create the dataframe we'll store our data in\n",
    "df = pd.DataFrame(columns=[\"Neighborhood\", \"wiki\", \"latitude\", \"longitude\"])\n",
    "\n",
    "# open the page and create soup object\n",
    "page = urlopen(wiki)\n",
    "soup = BeautifulSoup(page, 'html.parser')\n",
    "\n",
    "# find our list of neighborhoods\n",
    "neighborhoods_div = soup.find('div', attrs={\"class\": \"div-col columns column-width\"})\n",
    "\n",
    "# get all the \"li\" tags, and get the names and urls. Add them to the dataframe\n",
    "lis = neighborhoods_div.findAll('li')\n",
    "for li in lis:\n",
    "    a = li.find('a')\n",
    "    text = a.text.strip()\n",
    "    url = \"https://en.wikipedia.org\" + a.attrs.get(\"href\")\n",
    "    df = df.append({\"Neighborhood\":text, \"wiki\":url}, ignore_index=True)\n",
    "\n",
    "    \n",
    "df.head()"
   ]
  },
  {
   "cell_type": "code",
   "execution_count": 210,
   "metadata": {},
   "outputs": [],
   "source": [
    "# method to transform lat and long coordinates from degrees to decimal format\n",
    "def toDegrees(lat, long):\n",
    "    # parse the coordinate\n",
    "    lat = re.split(\"[\\u2032 \\u2033 \\N{DEGREE SIGN} N]\", lat)\n",
    "    long = re.split(\"[\\u2032 \\u2033 \\N{DEGREE SIGN} W]\", long)\n",
    "    \n",
    "    # some neighborhoods only provided degrees and minutes so I created an exception for those\n",
    "    try:\n",
    "        # convert strings to floats\n",
    "        lat = [float(x) for x in lat[0:3]]\n",
    "        long = [float(x) for x in long[0:3]]\n",
    "        # the math part\n",
    "        lat_dec = round(lat[0] + (lat[1]/60) + (lat[2]/3600), 6)\n",
    "        long_dec = -round(long[0] + (long[1]/60) + (long[2]/3600), 6)\n",
    "    except:\n",
    "        # convert strings to floats\n",
    "        lat = [float(x) for x in lat[0:2]]\n",
    "        long = [float(x) for x in long[0:2]]\n",
    "        # the math part\n",
    "        lat_dec = round(lat[0] + (lat[1]/60), 6)\n",
    "        long_dec = -round(long[0] + (long[1]/60), 6)\n",
    "    \n",
    "    return lat_dec, long_dec"
   ]
  },
  {
   "cell_type": "code",
   "execution_count": 218,
   "metadata": {},
   "outputs": [],
   "source": [
    "for index, row in df.iterrows():\n",
    "    # get the latitude and longitude from each wikipedia page\n",
    "    location_page = urlopen(row[\"wiki\"])\n",
    "    location_soup = BeautifulSoup(location_page)\n",
    "    lat = location_soup.find(\"span\", attrs={\"class\":\"latitude\"}).text.strip()\n",
    "    long = location_soup.find(\"span\", attrs={\"class\":\"longitude\"}).text.strip()\n",
    "    \n",
    "    # convert to decimal\n",
    "    row[\"latitude\"], row[\"longitude\"] = toDegrees(lat, long)"
   ]
  },
  {
   "cell_type": "code",
   "execution_count": 219,
   "metadata": {},
   "outputs": [
    {
     "data": {
      "text/html": [
       "<div>\n",
       "<style scoped>\n",
       "    .dataframe tbody tr th:only-of-type {\n",
       "        vertical-align: middle;\n",
       "    }\n",
       "\n",
       "    .dataframe tbody tr th {\n",
       "        vertical-align: top;\n",
       "    }\n",
       "\n",
       "    .dataframe thead th {\n",
       "        text-align: right;\n",
       "    }\n",
       "</style>\n",
       "<table border=\"1\" class=\"dataframe\">\n",
       "  <thead>\n",
       "    <tr style=\"text-align: right;\">\n",
       "      <th></th>\n",
       "      <th>Neighborhood</th>\n",
       "      <th>wiki</th>\n",
       "      <th>latitude</th>\n",
       "      <th>longitude</th>\n",
       "    </tr>\n",
       "  </thead>\n",
       "  <tbody>\n",
       "    <tr>\n",
       "      <th>0</th>\n",
       "      <td>Allegheny Center</td>\n",
       "      <td>https://en.wikipedia.org/wiki/Allegheny_Center...</td>\n",
       "      <td>40.4531</td>\n",
       "      <td>-80.005</td>\n",
       "    </tr>\n",
       "    <tr>\n",
       "      <th>1</th>\n",
       "      <td>Allegheny West</td>\n",
       "      <td>https://en.wikipedia.org/wiki/Allegheny_West_(...</td>\n",
       "      <td>40.4521</td>\n",
       "      <td>-80.0158</td>\n",
       "    </tr>\n",
       "    <tr>\n",
       "      <th>2</th>\n",
       "      <td>Allentown</td>\n",
       "      <td>https://en.wikipedia.org/wiki/Allentown_(Pitts...</td>\n",
       "      <td>40.4211</td>\n",
       "      <td>-79.9939</td>\n",
       "    </tr>\n",
       "    <tr>\n",
       "      <th>3</th>\n",
       "      <td>Arlington</td>\n",
       "      <td>https://en.wikipedia.org/wiki/Arlington_(Pitts...</td>\n",
       "      <td>40.415</td>\n",
       "      <td>-79.97</td>\n",
       "    </tr>\n",
       "    <tr>\n",
       "      <th>4</th>\n",
       "      <td>Arlington Heights</td>\n",
       "      <td>https://en.wikipedia.org/wiki/Arlington_Height...</td>\n",
       "      <td>40.415</td>\n",
       "      <td>-79.97</td>\n",
       "    </tr>\n",
       "  </tbody>\n",
       "</table>\n",
       "</div>"
      ],
      "text/plain": [
       "        Neighborhood                                               wiki  \\\n",
       "0   Allegheny Center  https://en.wikipedia.org/wiki/Allegheny_Center...   \n",
       "1     Allegheny West  https://en.wikipedia.org/wiki/Allegheny_West_(...   \n",
       "2          Allentown  https://en.wikipedia.org/wiki/Allentown_(Pitts...   \n",
       "3          Arlington  https://en.wikipedia.org/wiki/Arlington_(Pitts...   \n",
       "4  Arlington Heights  https://en.wikipedia.org/wiki/Arlington_Height...   \n",
       "\n",
       "  latitude longitude  \n",
       "0  40.4531   -80.005  \n",
       "1  40.4521  -80.0158  \n",
       "2  40.4211  -79.9939  \n",
       "3   40.415    -79.97  \n",
       "4   40.415    -79.97  "
      ]
     },
     "execution_count": 219,
     "metadata": {},
     "output_type": "execute_result"
    }
   ],
   "source": [
    "df.head()"
   ]
  },
  {
   "cell_type": "code",
   "execution_count": null,
   "metadata": {},
   "outputs": [],
   "source": []
  },
  {
   "cell_type": "code",
   "execution_count": null,
   "metadata": {},
   "outputs": [],
   "source": [
    "# todo, merge rows when lat/long match"
   ]
  }
 ],
 "metadata": {
  "kernelspec": {
   "display_name": "Python 3",
   "language": "python",
   "name": "python3"
  },
  "language_info": {
   "codemirror_mode": {
    "name": "ipython",
    "version": 3
   },
   "file_extension": ".py",
   "mimetype": "text/x-python",
   "name": "python",
   "nbconvert_exporter": "python",
   "pygments_lexer": "ipython3",
   "version": "3.7.0"
  }
 },
 "nbformat": 4,
 "nbformat_minor": 2
}
